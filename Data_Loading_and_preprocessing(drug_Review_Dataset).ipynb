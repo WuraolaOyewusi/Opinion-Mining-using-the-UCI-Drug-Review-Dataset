{
  "nbformat": 4,
  "nbformat_minor": 0,
  "metadata": {
    "colab": {
      "name": "Data Loading and preprocessing(drug Review Dataset).ipynb",
      "version": "0.3.2",
      "provenance": [],
      "include_colab_link": true
    },
    "kernelspec": {
      "name": "python3",
      "display_name": "Python 3"
    },
    "accelerator": "GPU"
  },
  "cells": [
    {
      "cell_type": "markdown",
      "metadata": {
        "id": "view-in-github",
        "colab_type": "text"
      },
      "source": [
        "<a href=\"https://colab.research.google.com/github/WuraolaOyewusi/Opinion-Mining-using-the-UCI-Drug-Review-Dataset/blob/master/Data_Loading_and_preprocessing(drug_Review_Dataset).ipynb\" target=\"_parent\"><img src=\"https://colab.research.google.com/assets/colab-badge.svg\" alt=\"Open In Colab\"/></a>"
      ]
    },
    {
      "metadata": {
        "id": "Rj4Sf220io3n",
        "colab_type": "code",
        "colab": {
          "base_uri": "https://localhost:8080/",
          "height": 210
        },
        "outputId": "168d6376-bce5-4923-af5a-861c1d4fe916"
      },
      "cell_type": "code",
      "source": [
        "!wget https://archive.ics.uci.edu/ml/machine-learning-databases/00462/drugsCom_raw.zip   # download data to notebook "
      ],
      "execution_count": 1,
      "outputs": [
        {
          "output_type": "stream",
          "text": [
            "--2018-12-12 14:14:03--  https://archive.ics.uci.edu/ml/machine-learning-databases/00462/drugsCom_raw.zip\n",
            "Resolving archive.ics.uci.edu (archive.ics.uci.edu)... 128.195.10.249\n",
            "Connecting to archive.ics.uci.edu (archive.ics.uci.edu)|128.195.10.249|:443... connected.\n",
            "HTTP request sent, awaiting response... 200 OK\n",
            "Length: 42989872 (41M) [application/zip]\n",
            "Saving to: ‘drugsCom_raw.zip’\n",
            "\n",
            "drugsCom_raw.zip    100%[===================>]  41.00M  24.5MB/s    in 1.7s    \n",
            "\n",
            "2018-12-12 14:14:05 (24.5 MB/s) - ‘drugsCom_raw.zip’ saved [42989872/42989872]\n",
            "\n"
          ],
          "name": "stdout"
        }
      ]
    },
    {
      "metadata": {
        "id": "EjucsO3fjhHv",
        "colab_type": "code",
        "colab": {
          "base_uri": "https://localhost:8080/",
          "height": 70
        },
        "outputId": "4ef2fe75-1922-432e-d6c9-45c22679be00"
      },
      "cell_type": "code",
      "source": [
        "!unzip drugsCom_raw.zip          #unzip data "
      ],
      "execution_count": 4,
      "outputs": [
        {
          "output_type": "stream",
          "text": [
            "Archive:  drugsCom_raw.zip\n",
            "  inflating: drugsComTest_raw.tsv    \n",
            "  inflating: drugsComTrain_raw.tsv   \n"
          ],
          "name": "stdout"
        }
      ]
    },
    {
      "metadata": {
        "id": "m57_C-3oj1Cr",
        "colab_type": "code",
        "colab": {}
      },
      "cell_type": "code",
      "source": [
        "import pandas as pd\n",
        "df1 = pd.read_csv('drugsComTest_raw.tsv',delimiter='\\t')     # Read the files with the pandas dataFrame\n",
        "df2 = pd.read_csv('drugsComTrain_raw.tsv', delimiter='\\t')   #  pass use the '\\t' delimiter as argument because it is a tab separated file to prevent parser error"
      ],
      "execution_count": 0,
      "outputs": []
    },
    {
      "metadata": {
        "id": "M0ABTmmGkmm9",
        "colab_type": "code",
        "colab": {}
      },
      "cell_type": "code",
      "source": [
        "df = pd.concat([df1,df2])  # combine the two dataFrames into one for a bigger data size and ease of preprocessing"
      ],
      "execution_count": 0,
      "outputs": []
    },
    {
      "metadata": {
        "id": "o8qqPUG4lJRX",
        "colab_type": "code",
        "colab": {
          "base_uri": "https://localhost:8080/",
          "height": 34
        },
        "outputId": "fc446531-bd90-4b20-9b86-2e400a76de44"
      },
      "cell_type": "code",
      "source": [
        "df1.shape"
      ],
      "execution_count": 60,
      "outputs": [
        {
          "output_type": "execute_result",
          "data": {
            "text/plain": [
              "(53766, 7)"
            ]
          },
          "metadata": {
            "tags": []
          },
          "execution_count": 60
        }
      ]
    },
    {
      "metadata": {
        "id": "SJQgttRslNez",
        "colab_type": "code",
        "colab": {
          "base_uri": "https://localhost:8080/",
          "height": 34
        },
        "outputId": "17e36560-1e15-4c0c-863e-82f3d55eb86e"
      },
      "cell_type": "code",
      "source": [
        "df2.shape"
      ],
      "execution_count": 61,
      "outputs": [
        {
          "output_type": "execute_result",
          "data": {
            "text/plain": [
              "(161297, 7)"
            ]
          },
          "metadata": {
            "tags": []
          },
          "execution_count": 61
        }
      ]
    },
    {
      "metadata": {
        "id": "3C8ksNDAlQ-r",
        "colab_type": "code",
        "colab": {
          "base_uri": "https://localhost:8080/",
          "height": 34
        },
        "outputId": "5dff17f7-afe7-4ddc-b25c-5258334ee659"
      },
      "cell_type": "code",
      "source": [
        "df.shape            #confirm concatenation"
      ],
      "execution_count": 62,
      "outputs": [
        {
          "output_type": "execute_result",
          "data": {
            "text/plain": [
              "(215063, 7)"
            ]
          },
          "metadata": {
            "tags": []
          },
          "execution_count": 62
        }
      ]
    },
    {
      "metadata": {
        "id": "hRXti_jilaxR",
        "colab_type": "code",
        "colab": {
          "base_uri": "https://localhost:8080/",
          "height": 195
        },
        "outputId": "9eeab64d-2aa0-4fc3-fb0e-de9ad16d6da7"
      },
      "cell_type": "code",
      "source": [
        "df.head()"
      ],
      "execution_count": 63,
      "outputs": [
        {
          "output_type": "execute_result",
          "data": {
            "text/html": [
              "<div>\n",
              "<style scoped>\n",
              "    .dataframe tbody tr th:only-of-type {\n",
              "        vertical-align: middle;\n",
              "    }\n",
              "\n",
              "    .dataframe tbody tr th {\n",
              "        vertical-align: top;\n",
              "    }\n",
              "\n",
              "    .dataframe thead th {\n",
              "        text-align: right;\n",
              "    }\n",
              "</style>\n",
              "<table border=\"1\" class=\"dataframe\">\n",
              "  <thead>\n",
              "    <tr style=\"text-align: right;\">\n",
              "      <th></th>\n",
              "      <th>Unnamed: 0</th>\n",
              "      <th>drugName</th>\n",
              "      <th>condition</th>\n",
              "      <th>review</th>\n",
              "      <th>rating</th>\n",
              "      <th>date</th>\n",
              "      <th>usefulCount</th>\n",
              "    </tr>\n",
              "  </thead>\n",
              "  <tbody>\n",
              "    <tr>\n",
              "      <th>0</th>\n",
              "      <td>163740</td>\n",
              "      <td>Mirtazapine</td>\n",
              "      <td>Depression</td>\n",
              "      <td>\"I&amp;#039;ve tried a few antidepressants over th...</td>\n",
              "      <td>10.0</td>\n",
              "      <td>February 28, 2012</td>\n",
              "      <td>22</td>\n",
              "    </tr>\n",
              "    <tr>\n",
              "      <th>1</th>\n",
              "      <td>206473</td>\n",
              "      <td>Mesalamine</td>\n",
              "      <td>Crohn's Disease, Maintenance</td>\n",
              "      <td>\"My son has Crohn&amp;#039;s disease and has done ...</td>\n",
              "      <td>8.0</td>\n",
              "      <td>May 17, 2009</td>\n",
              "      <td>17</td>\n",
              "    </tr>\n",
              "    <tr>\n",
              "      <th>2</th>\n",
              "      <td>159672</td>\n",
              "      <td>Bactrim</td>\n",
              "      <td>Urinary Tract Infection</td>\n",
              "      <td>\"Quick reduction of symptoms\"</td>\n",
              "      <td>9.0</td>\n",
              "      <td>September 29, 2017</td>\n",
              "      <td>3</td>\n",
              "    </tr>\n",
              "    <tr>\n",
              "      <th>3</th>\n",
              "      <td>39293</td>\n",
              "      <td>Contrave</td>\n",
              "      <td>Weight Loss</td>\n",
              "      <td>\"Contrave combines drugs that were used for al...</td>\n",
              "      <td>9.0</td>\n",
              "      <td>March 5, 2017</td>\n",
              "      <td>35</td>\n",
              "    </tr>\n",
              "    <tr>\n",
              "      <th>4</th>\n",
              "      <td>97768</td>\n",
              "      <td>Cyclafem 1 / 35</td>\n",
              "      <td>Birth Control</td>\n",
              "      <td>\"I have been on this birth control for one cyc...</td>\n",
              "      <td>9.0</td>\n",
              "      <td>October 22, 2015</td>\n",
              "      <td>4</td>\n",
              "    </tr>\n",
              "  </tbody>\n",
              "</table>\n",
              "</div>"
            ],
            "text/plain": [
              "   Unnamed: 0         drugName                     condition  \\\n",
              "0      163740      Mirtazapine                    Depression   \n",
              "1      206473       Mesalamine  Crohn's Disease, Maintenance   \n",
              "2      159672          Bactrim       Urinary Tract Infection   \n",
              "3       39293         Contrave                   Weight Loss   \n",
              "4       97768  Cyclafem 1 / 35                 Birth Control   \n",
              "\n",
              "                                              review  rating  \\\n",
              "0  \"I&#039;ve tried a few antidepressants over th...    10.0   \n",
              "1  \"My son has Crohn&#039;s disease and has done ...     8.0   \n",
              "2                      \"Quick reduction of symptoms\"     9.0   \n",
              "3  \"Contrave combines drugs that were used for al...     9.0   \n",
              "4  \"I have been on this birth control for one cyc...     9.0   \n",
              "\n",
              "                 date  usefulCount  \n",
              "0   February 28, 2012           22  \n",
              "1        May 17, 2009           17  \n",
              "2  September 29, 2017            3  \n",
              "3       March 5, 2017           35  \n",
              "4    October 22, 2015            4  "
            ]
          },
          "metadata": {
            "tags": []
          },
          "execution_count": 63
        }
      ]
    },
    {
      "metadata": {
        "id": "tNIazNZhlfvs",
        "colab_type": "code",
        "colab": {}
      },
      "cell_type": "code",
      "source": [
        "df.columns = ['Id','drugName','condition','review','rating','date','usefulCount']    #rename columns"
      ],
      "execution_count": 0,
      "outputs": []
    },
    {
      "metadata": {
        "id": "ZQqfW1o-lyhP",
        "colab_type": "code",
        "colab": {
          "base_uri": "https://localhost:8080/",
          "height": 195
        },
        "outputId": "0f648604-d908-45d9-8b12-d25ce6b0be97"
      },
      "cell_type": "code",
      "source": [
        "df.head()"
      ],
      "execution_count": 65,
      "outputs": [
        {
          "output_type": "execute_result",
          "data": {
            "text/html": [
              "<div>\n",
              "<style scoped>\n",
              "    .dataframe tbody tr th:only-of-type {\n",
              "        vertical-align: middle;\n",
              "    }\n",
              "\n",
              "    .dataframe tbody tr th {\n",
              "        vertical-align: top;\n",
              "    }\n",
              "\n",
              "    .dataframe thead th {\n",
              "        text-align: right;\n",
              "    }\n",
              "</style>\n",
              "<table border=\"1\" class=\"dataframe\">\n",
              "  <thead>\n",
              "    <tr style=\"text-align: right;\">\n",
              "      <th></th>\n",
              "      <th>Id</th>\n",
              "      <th>drugName</th>\n",
              "      <th>condition</th>\n",
              "      <th>review</th>\n",
              "      <th>rating</th>\n",
              "      <th>date</th>\n",
              "      <th>usefulCount</th>\n",
              "    </tr>\n",
              "  </thead>\n",
              "  <tbody>\n",
              "    <tr>\n",
              "      <th>0</th>\n",
              "      <td>163740</td>\n",
              "      <td>Mirtazapine</td>\n",
              "      <td>Depression</td>\n",
              "      <td>\"I&amp;#039;ve tried a few antidepressants over th...</td>\n",
              "      <td>10.0</td>\n",
              "      <td>February 28, 2012</td>\n",
              "      <td>22</td>\n",
              "    </tr>\n",
              "    <tr>\n",
              "      <th>1</th>\n",
              "      <td>206473</td>\n",
              "      <td>Mesalamine</td>\n",
              "      <td>Crohn's Disease, Maintenance</td>\n",
              "      <td>\"My son has Crohn&amp;#039;s disease and has done ...</td>\n",
              "      <td>8.0</td>\n",
              "      <td>May 17, 2009</td>\n",
              "      <td>17</td>\n",
              "    </tr>\n",
              "    <tr>\n",
              "      <th>2</th>\n",
              "      <td>159672</td>\n",
              "      <td>Bactrim</td>\n",
              "      <td>Urinary Tract Infection</td>\n",
              "      <td>\"Quick reduction of symptoms\"</td>\n",
              "      <td>9.0</td>\n",
              "      <td>September 29, 2017</td>\n",
              "      <td>3</td>\n",
              "    </tr>\n",
              "    <tr>\n",
              "      <th>3</th>\n",
              "      <td>39293</td>\n",
              "      <td>Contrave</td>\n",
              "      <td>Weight Loss</td>\n",
              "      <td>\"Contrave combines drugs that were used for al...</td>\n",
              "      <td>9.0</td>\n",
              "      <td>March 5, 2017</td>\n",
              "      <td>35</td>\n",
              "    </tr>\n",
              "    <tr>\n",
              "      <th>4</th>\n",
              "      <td>97768</td>\n",
              "      <td>Cyclafem 1 / 35</td>\n",
              "      <td>Birth Control</td>\n",
              "      <td>\"I have been on this birth control for one cyc...</td>\n",
              "      <td>9.0</td>\n",
              "      <td>October 22, 2015</td>\n",
              "      <td>4</td>\n",
              "    </tr>\n",
              "  </tbody>\n",
              "</table>\n",
              "</div>"
            ],
            "text/plain": [
              "       Id         drugName                     condition  \\\n",
              "0  163740      Mirtazapine                    Depression   \n",
              "1  206473       Mesalamine  Crohn's Disease, Maintenance   \n",
              "2  159672          Bactrim       Urinary Tract Infection   \n",
              "3   39293         Contrave                   Weight Loss   \n",
              "4   97768  Cyclafem 1 / 35                 Birth Control   \n",
              "\n",
              "                                              review  rating  \\\n",
              "0  \"I&#039;ve tried a few antidepressants over th...    10.0   \n",
              "1  \"My son has Crohn&#039;s disease and has done ...     8.0   \n",
              "2                      \"Quick reduction of symptoms\"     9.0   \n",
              "3  \"Contrave combines drugs that were used for al...     9.0   \n",
              "4  \"I have been on this birth control for one cyc...     9.0   \n",
              "\n",
              "                 date  usefulCount  \n",
              "0   February 28, 2012           22  \n",
              "1        May 17, 2009           17  \n",
              "2  September 29, 2017            3  \n",
              "3       March 5, 2017           35  \n",
              "4    October 22, 2015            4  "
            ]
          },
          "metadata": {
            "tags": []
          },
          "execution_count": 65
        }
      ]
    },
    {
      "metadata": {
        "id": "pYVvZLKcmCbs",
        "colab_type": "code",
        "colab": {}
      },
      "cell_type": "code",
      "source": [
        "df['date'] = pd.to_datetime(df['date'])    #convert date to datetime eventhough we are not using date in this "
      ],
      "execution_count": 0,
      "outputs": []
    },
    {
      "metadata": {
        "id": "3ZwlFM_1mIou",
        "colab_type": "code",
        "colab": {
          "base_uri": "https://localhost:8080/",
          "height": 122
        },
        "outputId": "62864398-24d2-4b7f-cb68-c218306031a6"
      },
      "cell_type": "code",
      "source": [
        "df['date'].head()             #confirm conversion"
      ],
      "execution_count": 67,
      "outputs": [
        {
          "output_type": "execute_result",
          "data": {
            "text/plain": [
              "0   2012-02-28\n",
              "1   2009-05-17\n",
              "2   2017-09-29\n",
              "3   2017-03-05\n",
              "4   2015-10-22\n",
              "Name: date, dtype: datetime64[ns]"
            ]
          },
          "metadata": {
            "tags": []
          },
          "execution_count": 67
        }
      ]
    },
    {
      "metadata": {
        "id": "HJyIIGFbl7P8",
        "colab_type": "code",
        "colab": {}
      },
      "cell_type": "code",
      "source": [
        "df2 = df[['Id','review','rating']].copy()    # create a new dataframe with just review and rating for sentiment analysis"
      ],
      "execution_count": 0,
      "outputs": []
    },
    {
      "metadata": {
        "id": "lv7h2-GFnzJT",
        "colab_type": "code",
        "colab": {
          "base_uri": "https://localhost:8080/",
          "height": 195
        },
        "outputId": "9ea5fdb9-bb94-47e4-eb1d-9478eb318c5c"
      },
      "cell_type": "code",
      "source": [
        "df2.head()"
      ],
      "execution_count": 69,
      "outputs": [
        {
          "output_type": "execute_result",
          "data": {
            "text/html": [
              "<div>\n",
              "<style scoped>\n",
              "    .dataframe tbody tr th:only-of-type {\n",
              "        vertical-align: middle;\n",
              "    }\n",
              "\n",
              "    .dataframe tbody tr th {\n",
              "        vertical-align: top;\n",
              "    }\n",
              "\n",
              "    .dataframe thead th {\n",
              "        text-align: right;\n",
              "    }\n",
              "</style>\n",
              "<table border=\"1\" class=\"dataframe\">\n",
              "  <thead>\n",
              "    <tr style=\"text-align: right;\">\n",
              "      <th></th>\n",
              "      <th>Id</th>\n",
              "      <th>review</th>\n",
              "      <th>rating</th>\n",
              "    </tr>\n",
              "  </thead>\n",
              "  <tbody>\n",
              "    <tr>\n",
              "      <th>0</th>\n",
              "      <td>163740</td>\n",
              "      <td>\"I&amp;#039;ve tried a few antidepressants over th...</td>\n",
              "      <td>10.0</td>\n",
              "    </tr>\n",
              "    <tr>\n",
              "      <th>1</th>\n",
              "      <td>206473</td>\n",
              "      <td>\"My son has Crohn&amp;#039;s disease and has done ...</td>\n",
              "      <td>8.0</td>\n",
              "    </tr>\n",
              "    <tr>\n",
              "      <th>2</th>\n",
              "      <td>159672</td>\n",
              "      <td>\"Quick reduction of symptoms\"</td>\n",
              "      <td>9.0</td>\n",
              "    </tr>\n",
              "    <tr>\n",
              "      <th>3</th>\n",
              "      <td>39293</td>\n",
              "      <td>\"Contrave combines drugs that were used for al...</td>\n",
              "      <td>9.0</td>\n",
              "    </tr>\n",
              "    <tr>\n",
              "      <th>4</th>\n",
              "      <td>97768</td>\n",
              "      <td>\"I have been on this birth control for one cyc...</td>\n",
              "      <td>9.0</td>\n",
              "    </tr>\n",
              "  </tbody>\n",
              "</table>\n",
              "</div>"
            ],
            "text/plain": [
              "       Id                                             review  rating\n",
              "0  163740  \"I&#039;ve tried a few antidepressants over th...    10.0\n",
              "1  206473  \"My son has Crohn&#039;s disease and has done ...     8.0\n",
              "2  159672                      \"Quick reduction of symptoms\"     9.0\n",
              "3   39293  \"Contrave combines drugs that were used for al...     9.0\n",
              "4   97768  \"I have been on this birth control for one cyc...     9.0"
            ]
          },
          "metadata": {
            "tags": []
          },
          "execution_count": 69
        }
      ]
    },
    {
      "metadata": {
        "id": "jVo1aQ7o5BsX",
        "colab_type": "code",
        "colab": {
          "base_uri": "https://localhost:8080/",
          "height": 34
        },
        "outputId": "13495619-8125-488c-dbd5-18248448ad40"
      },
      "cell_type": "code",
      "source": [
        "df2.isnull().any().any()    # check for null"
      ],
      "execution_count": 70,
      "outputs": [
        {
          "output_type": "execute_result",
          "data": {
            "text/plain": [
              "False"
            ]
          },
          "metadata": {
            "tags": []
          },
          "execution_count": 70
        }
      ]
    },
    {
      "metadata": {
        "id": "cZHYYkbY5ff6",
        "colab_type": "code",
        "colab": {
          "base_uri": "https://localhost:8080/",
          "height": 158
        },
        "outputId": "d6ecfbc4-6a13-4b04-8d6e-ad2a979f484b"
      },
      "cell_type": "code",
      "source": [
        "df2.info(null_counts=True)         #another way to check for null"
      ],
      "execution_count": 71,
      "outputs": [
        {
          "output_type": "stream",
          "text": [
            "<class 'pandas.core.frame.DataFrame'>\n",
            "Int64Index: 215063 entries, 0 to 161296\n",
            "Data columns (total 3 columns):\n",
            "Id        215063 non-null int64\n",
            "review    215063 non-null object\n",
            "rating    215063 non-null float64\n",
            "dtypes: float64(1), int64(1), object(1)\n",
            "memory usage: 6.6+ MB\n"
          ],
          "name": "stdout"
        }
      ]
    },
    {
      "metadata": {
        "id": "-ypfh_8S5r-U",
        "colab_type": "code",
        "colab": {
          "base_uri": "https://localhost:8080/",
          "height": 158
        },
        "outputId": "0e2b8008-5a24-4cb9-fcc6-0994d2d0b489"
      },
      "cell_type": "code",
      "source": [
        "df2.info()       #check for datatype, also shows null"
      ],
      "execution_count": 72,
      "outputs": [
        {
          "output_type": "stream",
          "text": [
            "<class 'pandas.core.frame.DataFrame'>\n",
            "Int64Index: 215063 entries, 0 to 161296\n",
            "Data columns (total 3 columns):\n",
            "Id        215063 non-null int64\n",
            "review    215063 non-null object\n",
            "rating    215063 non-null float64\n",
            "dtypes: float64(1), int64(1), object(1)\n",
            "memory usage: 6.6+ MB\n"
          ],
          "name": "stdout"
        }
      ]
    },
    {
      "metadata": {
        "id": "0vpbrO0b6BqK",
        "colab_type": "code",
        "colab": {
          "base_uri": "https://localhost:8080/",
          "height": 34
        },
        "outputId": "9997b29c-96ba-42ad-c40c-9fca1fb1c6a4"
      },
      "cell_type": "code",
      "source": [
        "df2['Id'].unique()       # shows unique Id as array"
      ],
      "execution_count": 73,
      "outputs": [
        {
          "output_type": "execute_result",
          "data": {
            "text/plain": [
              "array([163740, 206473, 159672, ..., 187382,  47128, 215220])"
            ]
          },
          "metadata": {
            "tags": []
          },
          "execution_count": 73
        }
      ]
    },
    {
      "metadata": {
        "id": "SX-bFPCy6YKQ",
        "colab_type": "code",
        "colab": {
          "base_uri": "https://localhost:8080/",
          "height": 34
        },
        "outputId": "52bf2f6d-cb6c-45fd-90f5-d65d3d8f8e8c"
      },
      "cell_type": "code",
      "source": [
        "df2['Id'].count()      #count total number of items in the Id column"
      ],
      "execution_count": 74,
      "outputs": [
        {
          "output_type": "execute_result",
          "data": {
            "text/plain": [
              "215063"
            ]
          },
          "metadata": {
            "tags": []
          },
          "execution_count": 74
        }
      ]
    },
    {
      "metadata": {
        "id": "6Aw8HXXL6Jrp",
        "colab_type": "code",
        "colab": {
          "base_uri": "https://localhost:8080/",
          "height": 34
        },
        "outputId": "5112e331-3f76-4135-9b51-c4bf98712d9a"
      },
      "cell_type": "code",
      "source": [
        "df2['Id'].nunique()     #shows unique Id values"
      ],
      "execution_count": 75,
      "outputs": [
        {
          "output_type": "execute_result",
          "data": {
            "text/plain": [
              "215063"
            ]
          },
          "metadata": {
            "tags": []
          },
          "execution_count": 75
        }
      ]
    },
    {
      "metadata": {
        "id": "u68-XAnp6Jp0",
        "colab_type": "code",
        "colab": {
          "base_uri": "https://localhost:8080/",
          "height": 70
        },
        "outputId": "0324e5c3-3114-4f28-e0b8-3479a888f6bc"
      },
      "cell_type": "code",
      "source": [
        "df['review'][1]         # access indivdual value  "
      ],
      "execution_count": 76,
      "outputs": [
        {
          "output_type": "execute_result",
          "data": {
            "text/plain": [
              "1    \"My son has Crohn&#039;s disease and has done ...\n",
              "1    \"My son is halfway through his fourth week of ...\n",
              "Name: review, dtype: object"
            ]
          },
          "metadata": {
            "tags": []
          },
          "execution_count": 76
        }
      ]
    },
    {
      "metadata": {
        "id": "qRlcMkTm6JPI",
        "colab_type": "code",
        "colab": {
          "base_uri": "https://localhost:8080/",
          "height": 70
        },
        "outputId": "cdec81a5-1206-4e8a-9655-bd7ef9c4eb09"
      },
      "cell_type": "code",
      "source": [
        "df.review[1]            # another method to assess individual value in a Series"
      ],
      "execution_count": 77,
      "outputs": [
        {
          "output_type": "execute_result",
          "data": {
            "text/plain": [
              "1    \"My son has Crohn&#039;s disease and has done ...\n",
              "1    \"My son is halfway through his fourth week of ...\n",
              "Name: review, dtype: object"
            ]
          },
          "metadata": {
            "tags": []
          },
          "execution_count": 77
        }
      ]
    },
    {
      "metadata": {
        "id": "DhwN8TkC6JNh",
        "colab_type": "code",
        "colab": {
          "base_uri": "https://localhost:8080/",
          "height": 34
        },
        "outputId": "2f7136de-ca82-4f65-8fe0-c55943a43706"
      },
      "cell_type": "code",
      "source": [
        "!pip install vaderSentiment       #install Sentiment Analysis  library"
      ],
      "execution_count": 78,
      "outputs": [
        {
          "output_type": "stream",
          "text": [
            "Requirement already satisfied: vaderSentiment in /usr/local/lib/python3.6/dist-packages (3.2.1)\n"
          ],
          "name": "stdout"
        }
      ]
    },
    {
      "metadata": {
        "id": "IHDP0trS6JMV",
        "colab_type": "code",
        "colab": {
          "base_uri": "https://localhost:8080/",
          "height": 105
        },
        "outputId": "b82408a2-1220-4649-ef33-4ee8ef868236"
      },
      "cell_type": "code",
      "source": [
        "import nltk\n",
        "nltk.download(['punkt','stopwords'])"
      ],
      "execution_count": 79,
      "outputs": [
        {
          "output_type": "stream",
          "text": [
            "[nltk_data] Downloading package punkt to /root/nltk_data...\n",
            "[nltk_data]   Package punkt is already up-to-date!\n",
            "[nltk_data] Downloading package stopwords to /root/nltk_data...\n",
            "[nltk_data]   Package stopwords is already up-to-date!\n"
          ],
          "name": "stdout"
        },
        {
          "output_type": "execute_result",
          "data": {
            "text/plain": [
              "True"
            ]
          },
          "metadata": {
            "tags": []
          },
          "execution_count": 79
        }
      ]
    },
    {
      "metadata": {
        "id": "mOjPHBxD6JLB",
        "colab_type": "code",
        "colab": {}
      },
      "cell_type": "code",
      "source": [
        "from nltk.corpus import stopwords\n",
        "stopwords = stopwords.words('english')"
      ],
      "execution_count": 0,
      "outputs": []
    },
    {
      "metadata": {
        "id": "PctsizE2GYPE",
        "colab_type": "code",
        "colab": {
          "base_uri": "https://localhost:8080/",
          "height": 195
        },
        "outputId": "aecbf924-f772-4cf2-f18a-e10c8a8a6180"
      },
      "cell_type": "code",
      "source": [
        "df2.head()"
      ],
      "execution_count": 81,
      "outputs": [
        {
          "output_type": "execute_result",
          "data": {
            "text/html": [
              "<div>\n",
              "<style scoped>\n",
              "    .dataframe tbody tr th:only-of-type {\n",
              "        vertical-align: middle;\n",
              "    }\n",
              "\n",
              "    .dataframe tbody tr th {\n",
              "        vertical-align: top;\n",
              "    }\n",
              "\n",
              "    .dataframe thead th {\n",
              "        text-align: right;\n",
              "    }\n",
              "</style>\n",
              "<table border=\"1\" class=\"dataframe\">\n",
              "  <thead>\n",
              "    <tr style=\"text-align: right;\">\n",
              "      <th></th>\n",
              "      <th>Id</th>\n",
              "      <th>review</th>\n",
              "      <th>rating</th>\n",
              "    </tr>\n",
              "  </thead>\n",
              "  <tbody>\n",
              "    <tr>\n",
              "      <th>0</th>\n",
              "      <td>163740</td>\n",
              "      <td>\"I&amp;#039;ve tried a few antidepressants over th...</td>\n",
              "      <td>10.0</td>\n",
              "    </tr>\n",
              "    <tr>\n",
              "      <th>1</th>\n",
              "      <td>206473</td>\n",
              "      <td>\"My son has Crohn&amp;#039;s disease and has done ...</td>\n",
              "      <td>8.0</td>\n",
              "    </tr>\n",
              "    <tr>\n",
              "      <th>2</th>\n",
              "      <td>159672</td>\n",
              "      <td>\"Quick reduction of symptoms\"</td>\n",
              "      <td>9.0</td>\n",
              "    </tr>\n",
              "    <tr>\n",
              "      <th>3</th>\n",
              "      <td>39293</td>\n",
              "      <td>\"Contrave combines drugs that were used for al...</td>\n",
              "      <td>9.0</td>\n",
              "    </tr>\n",
              "    <tr>\n",
              "      <th>4</th>\n",
              "      <td>97768</td>\n",
              "      <td>\"I have been on this birth control for one cyc...</td>\n",
              "      <td>9.0</td>\n",
              "    </tr>\n",
              "  </tbody>\n",
              "</table>\n",
              "</div>"
            ],
            "text/plain": [
              "       Id                                             review  rating\n",
              "0  163740  \"I&#039;ve tried a few antidepressants over th...    10.0\n",
              "1  206473  \"My son has Crohn&#039;s disease and has done ...     8.0\n",
              "2  159672                      \"Quick reduction of symptoms\"     9.0\n",
              "3   39293  \"Contrave combines drugs that were used for al...     9.0\n",
              "4   97768  \"I have been on this birth control for one cyc...     9.0"
            ]
          },
          "metadata": {
            "tags": []
          },
          "execution_count": 81
        }
      ]
    },
    {
      "metadata": {
        "id": "d1jB8mku6JJg",
        "colab_type": "code",
        "colab": {}
      },
      "cell_type": "code",
      "source": [
        "df2['cleanReview'] = df2['review'].apply(lambda x: ' '.join([item for item in x.split() if item not in stopwords]))     # remove stopwords from review"
      ],
      "execution_count": 0,
      "outputs": []
    },
    {
      "metadata": {
        "id": "pGIbJL6Q9CBy",
        "colab_type": "code",
        "colab": {
          "base_uri": "https://localhost:8080/",
          "height": 195
        },
        "outputId": "a674d875-59d6-476b-e7cc-ccd0f1010ffc"
      },
      "cell_type": "code",
      "source": [
        "df2.head()"
      ],
      "execution_count": 83,
      "outputs": [
        {
          "output_type": "execute_result",
          "data": {
            "text/html": [
              "<div>\n",
              "<style scoped>\n",
              "    .dataframe tbody tr th:only-of-type {\n",
              "        vertical-align: middle;\n",
              "    }\n",
              "\n",
              "    .dataframe tbody tr th {\n",
              "        vertical-align: top;\n",
              "    }\n",
              "\n",
              "    .dataframe thead th {\n",
              "        text-align: right;\n",
              "    }\n",
              "</style>\n",
              "<table border=\"1\" class=\"dataframe\">\n",
              "  <thead>\n",
              "    <tr style=\"text-align: right;\">\n",
              "      <th></th>\n",
              "      <th>Id</th>\n",
              "      <th>review</th>\n",
              "      <th>rating</th>\n",
              "      <th>cleanReview</th>\n",
              "    </tr>\n",
              "  </thead>\n",
              "  <tbody>\n",
              "    <tr>\n",
              "      <th>0</th>\n",
              "      <td>163740</td>\n",
              "      <td>\"I&amp;#039;ve tried a few antidepressants over th...</td>\n",
              "      <td>10.0</td>\n",
              "      <td>\"I&amp;#039;ve tried antidepressants years (citalo...</td>\n",
              "    </tr>\n",
              "    <tr>\n",
              "      <th>1</th>\n",
              "      <td>206473</td>\n",
              "      <td>\"My son has Crohn&amp;#039;s disease and has done ...</td>\n",
              "      <td>8.0</td>\n",
              "      <td>\"My son Crohn&amp;#039;s disease done well Asacol....</td>\n",
              "    </tr>\n",
              "    <tr>\n",
              "      <th>2</th>\n",
              "      <td>159672</td>\n",
              "      <td>\"Quick reduction of symptoms\"</td>\n",
              "      <td>9.0</td>\n",
              "      <td>\"Quick reduction symptoms\"</td>\n",
              "    </tr>\n",
              "    <tr>\n",
              "      <th>3</th>\n",
              "      <td>39293</td>\n",
              "      <td>\"Contrave combines drugs that were used for al...</td>\n",
              "      <td>9.0</td>\n",
              "      <td>\"Contrave combines drugs used alcohol, smoking...</td>\n",
              "    </tr>\n",
              "    <tr>\n",
              "      <th>4</th>\n",
              "      <td>97768</td>\n",
              "      <td>\"I have been on this birth control for one cyc...</td>\n",
              "      <td>9.0</td>\n",
              "      <td>\"I birth control one cycle. After reading revi...</td>\n",
              "    </tr>\n",
              "  </tbody>\n",
              "</table>\n",
              "</div>"
            ],
            "text/plain": [
              "       Id                                             review  rating  \\\n",
              "0  163740  \"I&#039;ve tried a few antidepressants over th...    10.0   \n",
              "1  206473  \"My son has Crohn&#039;s disease and has done ...     8.0   \n",
              "2  159672                      \"Quick reduction of symptoms\"     9.0   \n",
              "3   39293  \"Contrave combines drugs that were used for al...     9.0   \n",
              "4   97768  \"I have been on this birth control for one cyc...     9.0   \n",
              "\n",
              "                                         cleanReview  \n",
              "0  \"I&#039;ve tried antidepressants years (citalo...  \n",
              "1  \"My son Crohn&#039;s disease done well Asacol....  \n",
              "2                         \"Quick reduction symptoms\"  \n",
              "3  \"Contrave combines drugs used alcohol, smoking...  \n",
              "4  \"I birth control one cycle. After reading revi...  "
            ]
          },
          "metadata": {
            "tags": []
          },
          "execution_count": 83
        }
      ]
    },
    {
      "metadata": {
        "id": "BCsimWTo9VU0",
        "colab_type": "code",
        "colab": {}
      },
      "cell_type": "code",
      "source": [
        "import vaderSentiment\n",
        "from vaderSentiment.vaderSentiment import SentimentIntensityAnalyzer\n",
        "analyzer = SentimentIntensityAnalyzer()"
      ],
      "execution_count": 0,
      "outputs": []
    },
    {
      "metadata": {
        "id": "2AMeTr8y979V",
        "colab_type": "code",
        "colab": {}
      },
      "cell_type": "code",
      "source": [
        "df2['vaderReviewScore'] = df2['cleanReview'].apply(lambda x: analyzer.polarity_scores(x)['compound'])"
      ],
      "execution_count": 0,
      "outputs": []
    },
    {
      "metadata": {
        "id": "jzdNAeXf97VQ",
        "colab_type": "code",
        "colab": {
          "base_uri": "https://localhost:8080/",
          "height": 195
        },
        "outputId": "e37d24ee-fa37-4fb4-f1f9-a1e2126fcdf1"
      },
      "cell_type": "code",
      "source": [
        "df2.head()"
      ],
      "execution_count": 86,
      "outputs": [
        {
          "output_type": "execute_result",
          "data": {
            "text/html": [
              "<div>\n",
              "<style scoped>\n",
              "    .dataframe tbody tr th:only-of-type {\n",
              "        vertical-align: middle;\n",
              "    }\n",
              "\n",
              "    .dataframe tbody tr th {\n",
              "        vertical-align: top;\n",
              "    }\n",
              "\n",
              "    .dataframe thead th {\n",
              "        text-align: right;\n",
              "    }\n",
              "</style>\n",
              "<table border=\"1\" class=\"dataframe\">\n",
              "  <thead>\n",
              "    <tr style=\"text-align: right;\">\n",
              "      <th></th>\n",
              "      <th>Id</th>\n",
              "      <th>review</th>\n",
              "      <th>rating</th>\n",
              "      <th>cleanReview</th>\n",
              "      <th>vaderReviewScore</th>\n",
              "    </tr>\n",
              "  </thead>\n",
              "  <tbody>\n",
              "    <tr>\n",
              "      <th>0</th>\n",
              "      <td>163740</td>\n",
              "      <td>\"I&amp;#039;ve tried a few antidepressants over th...</td>\n",
              "      <td>10.0</td>\n",
              "      <td>\"I&amp;#039;ve tried antidepressants years (citalo...</td>\n",
              "      <td>0.7623</td>\n",
              "    </tr>\n",
              "    <tr>\n",
              "      <th>1</th>\n",
              "      <td>206473</td>\n",
              "      <td>\"My son has Crohn&amp;#039;s disease and has done ...</td>\n",
              "      <td>8.0</td>\n",
              "      <td>\"My son Crohn&amp;#039;s disease done well Asacol....</td>\n",
              "      <td>0.4767</td>\n",
              "    </tr>\n",
              "    <tr>\n",
              "      <th>2</th>\n",
              "      <td>159672</td>\n",
              "      <td>\"Quick reduction of symptoms\"</td>\n",
              "      <td>9.0</td>\n",
              "      <td>\"Quick reduction symptoms\"</td>\n",
              "      <td>0.0000</td>\n",
              "    </tr>\n",
              "    <tr>\n",
              "      <th>3</th>\n",
              "      <td>39293</td>\n",
              "      <td>\"Contrave combines drugs that were used for al...</td>\n",
              "      <td>9.0</td>\n",
              "      <td>\"Contrave combines drugs used alcohol, smoking...</td>\n",
              "      <td>0.8115</td>\n",
              "    </tr>\n",
              "    <tr>\n",
              "      <th>4</th>\n",
              "      <td>97768</td>\n",
              "      <td>\"I have been on this birth control for one cyc...</td>\n",
              "      <td>9.0</td>\n",
              "      <td>\"I birth control one cycle. After reading revi...</td>\n",
              "      <td>0.9619</td>\n",
              "    </tr>\n",
              "  </tbody>\n",
              "</table>\n",
              "</div>"
            ],
            "text/plain": [
              "       Id                                             review  rating  \\\n",
              "0  163740  \"I&#039;ve tried a few antidepressants over th...    10.0   \n",
              "1  206473  \"My son has Crohn&#039;s disease and has done ...     8.0   \n",
              "2  159672                      \"Quick reduction of symptoms\"     9.0   \n",
              "3   39293  \"Contrave combines drugs that were used for al...     9.0   \n",
              "4   97768  \"I have been on this birth control for one cyc...     9.0   \n",
              "\n",
              "                                         cleanReview  vaderReviewScore  \n",
              "0  \"I&#039;ve tried antidepressants years (citalo...            0.7623  \n",
              "1  \"My son Crohn&#039;s disease done well Asacol....            0.4767  \n",
              "2                         \"Quick reduction symptoms\"            0.0000  \n",
              "3  \"Contrave combines drugs used alcohol, smoking...            0.8115  \n",
              "4  \"I birth control one cycle. After reading revi...            0.9619  "
            ]
          },
          "metadata": {
            "tags": []
          },
          "execution_count": 86
        }
      ]
    },
    {
      "metadata": {
        "id": "iqbAvb_9DlK4",
        "colab_type": "code",
        "colab": {}
      },
      "cell_type": "code",
      "source": [
        "positive_num = len(df2[df2['vaderReviewScore'] >=0.05])\n",
        "neutral_num = len(df2[(df2['vaderReviewScore'] >-0.05) & (df2['vaderReviewScore']<0.05)])\n",
        "negative_num = len(df2[df2['vaderReviewScore']<=-0.05])"
      ],
      "execution_count": 0,
      "outputs": []
    },
    {
      "metadata": {
        "id": "lPU0WtsMCaO0",
        "colab_type": "code",
        "colab": {
          "base_uri": "https://localhost:8080/",
          "height": 34
        },
        "outputId": "3c99b71e-3908-4e68-d565-b66158085a39"
      },
      "cell_type": "code",
      "source": [
        "positive_num,neutral_num, negative_num"
      ],
      "execution_count": 88,
      "outputs": [
        {
          "output_type": "execute_result",
          "data": {
            "text/plain": [
              "(101866, 10808, 102389)"
            ]
          },
          "metadata": {
            "tags": []
          },
          "execution_count": 88
        }
      ]
    },
    {
      "metadata": {
        "id": "wzu-IpbqECEE",
        "colab_type": "code",
        "colab": {}
      },
      "cell_type": "code",
      "source": [
        "df2['vaderSentiment']= df2['vaderReviewScore'].map(lambda x:int(2) if x>=0.05 else int(1) if x<=-0.05 else int(0) )"
      ],
      "execution_count": 0,
      "outputs": []
    },
    {
      "metadata": {
        "id": "GVgCz1u1DBTa",
        "colab_type": "code",
        "colab": {
          "base_uri": "https://localhost:8080/",
          "height": 87
        },
        "outputId": "e0595611-085c-4ec7-a21d-7b4e33a1e654"
      },
      "cell_type": "code",
      "source": [
        "df2['vaderSentiment'].value_counts()"
      ],
      "execution_count": 90,
      "outputs": [
        {
          "output_type": "execute_result",
          "data": {
            "text/plain": [
              "1    102389\n",
              "2    101866\n",
              "0     10808\n",
              "Name: vaderSentiment, dtype: int64"
            ]
          },
          "metadata": {
            "tags": []
          },
          "execution_count": 90
        }
      ]
    },
    {
      "metadata": {
        "id": "iA_U41nMzrqT",
        "colab_type": "code",
        "colab": {
          "base_uri": "https://localhost:8080/",
          "height": 34
        },
        "outputId": "ec795c48-af92-4376-e1b6-9ed7350ecdeb"
      },
      "cell_type": "code",
      "source": [
        "Total_vaderSentiment = positive_num + neutral_num + negative_num\n",
        "Total_vaderSentiment"
      ],
      "execution_count": 91,
      "outputs": [
        {
          "output_type": "execute_result",
          "data": {
            "text/plain": [
              "215063"
            ]
          },
          "metadata": {
            "tags": []
          },
          "execution_count": 91
        }
      ]
    },
    {
      "metadata": {
        "id": "7LPrb4acETjg",
        "colab_type": "code",
        "colab": {}
      },
      "cell_type": "code",
      "source": [
        "df2.loc[df2['vaderReviewScore'] >=0.05,\"vaderSentimentLabel\"] =\"positive\"\n",
        "df2.loc[(df2['vaderReviewScore'] >-0.05) & (df2['vaderReviewScore']<0.05),\"vaderSentimentLabel\"]= \"neutral\"\n",
        "df2.loc[df2['vaderReviewScore']<=-0.05,\"vaderSentimentLabel\"] = \"negative\""
      ],
      "execution_count": 0,
      "outputs": []
    },
    {
      "metadata": {
        "id": "sE4paKdJKHGN",
        "colab_type": "code",
        "colab": {
          "base_uri": "https://localhost:8080/",
          "height": 34
        },
        "outputId": "1bf39517-dcb2-4152-e2b6-926f3f279f22"
      },
      "cell_type": "code",
      "source": [
        "df2.shape"
      ],
      "execution_count": 93,
      "outputs": [
        {
          "output_type": "execute_result",
          "data": {
            "text/plain": [
              "(215063, 7)"
            ]
          },
          "metadata": {
            "tags": []
          },
          "execution_count": 93
        }
      ]
    },
    {
      "metadata": {
        "id": "Xah2qVCtJ-xt",
        "colab_type": "code",
        "colab": {
          "base_uri": "https://localhost:8080/",
          "height": 195
        },
        "outputId": "bf4854d4-8e1b-45ea-bda9-6a2cde939dbc"
      },
      "cell_type": "code",
      "source": [
        "df2.head()"
      ],
      "execution_count": 94,
      "outputs": [
        {
          "output_type": "execute_result",
          "data": {
            "text/html": [
              "<div>\n",
              "<style scoped>\n",
              "    .dataframe tbody tr th:only-of-type {\n",
              "        vertical-align: middle;\n",
              "    }\n",
              "\n",
              "    .dataframe tbody tr th {\n",
              "        vertical-align: top;\n",
              "    }\n",
              "\n",
              "    .dataframe thead th {\n",
              "        text-align: right;\n",
              "    }\n",
              "</style>\n",
              "<table border=\"1\" class=\"dataframe\">\n",
              "  <thead>\n",
              "    <tr style=\"text-align: right;\">\n",
              "      <th></th>\n",
              "      <th>Id</th>\n",
              "      <th>review</th>\n",
              "      <th>rating</th>\n",
              "      <th>cleanReview</th>\n",
              "      <th>vaderReviewScore</th>\n",
              "      <th>vaderSentiment</th>\n",
              "      <th>vaderSentimentLabel</th>\n",
              "    </tr>\n",
              "  </thead>\n",
              "  <tbody>\n",
              "    <tr>\n",
              "      <th>0</th>\n",
              "      <td>163740</td>\n",
              "      <td>\"I&amp;#039;ve tried a few antidepressants over th...</td>\n",
              "      <td>10.0</td>\n",
              "      <td>\"I&amp;#039;ve tried antidepressants years (citalo...</td>\n",
              "      <td>0.7623</td>\n",
              "      <td>2</td>\n",
              "      <td>positive</td>\n",
              "    </tr>\n",
              "    <tr>\n",
              "      <th>1</th>\n",
              "      <td>206473</td>\n",
              "      <td>\"My son has Crohn&amp;#039;s disease and has done ...</td>\n",
              "      <td>8.0</td>\n",
              "      <td>\"My son Crohn&amp;#039;s disease done well Asacol....</td>\n",
              "      <td>0.4767</td>\n",
              "      <td>2</td>\n",
              "      <td>positive</td>\n",
              "    </tr>\n",
              "    <tr>\n",
              "      <th>2</th>\n",
              "      <td>159672</td>\n",
              "      <td>\"Quick reduction of symptoms\"</td>\n",
              "      <td>9.0</td>\n",
              "      <td>\"Quick reduction symptoms\"</td>\n",
              "      <td>0.0000</td>\n",
              "      <td>0</td>\n",
              "      <td>neutral</td>\n",
              "    </tr>\n",
              "    <tr>\n",
              "      <th>3</th>\n",
              "      <td>39293</td>\n",
              "      <td>\"Contrave combines drugs that were used for al...</td>\n",
              "      <td>9.0</td>\n",
              "      <td>\"Contrave combines drugs used alcohol, smoking...</td>\n",
              "      <td>0.8115</td>\n",
              "      <td>2</td>\n",
              "      <td>positive</td>\n",
              "    </tr>\n",
              "    <tr>\n",
              "      <th>4</th>\n",
              "      <td>97768</td>\n",
              "      <td>\"I have been on this birth control for one cyc...</td>\n",
              "      <td>9.0</td>\n",
              "      <td>\"I birth control one cycle. After reading revi...</td>\n",
              "      <td>0.9619</td>\n",
              "      <td>2</td>\n",
              "      <td>positive</td>\n",
              "    </tr>\n",
              "  </tbody>\n",
              "</table>\n",
              "</div>"
            ],
            "text/plain": [
              "       Id                                             review  rating  \\\n",
              "0  163740  \"I&#039;ve tried a few antidepressants over th...    10.0   \n",
              "1  206473  \"My son has Crohn&#039;s disease and has done ...     8.0   \n",
              "2  159672                      \"Quick reduction of symptoms\"     9.0   \n",
              "3   39293  \"Contrave combines drugs that were used for al...     9.0   \n",
              "4   97768  \"I have been on this birth control for one cyc...     9.0   \n",
              "\n",
              "                                         cleanReview  vaderReviewScore  \\\n",
              "0  \"I&#039;ve tried antidepressants years (citalo...            0.7623   \n",
              "1  \"My son Crohn&#039;s disease done well Asacol....            0.4767   \n",
              "2                         \"Quick reduction symptoms\"            0.0000   \n",
              "3  \"Contrave combines drugs used alcohol, smoking...            0.8115   \n",
              "4  \"I birth control one cycle. After reading revi...            0.9619   \n",
              "\n",
              "   vaderSentiment vaderSentimentLabel  \n",
              "0               2            positive  \n",
              "1               2            positive  \n",
              "2               0             neutral  \n",
              "3               2            positive  \n",
              "4               2            positive  "
            ]
          },
          "metadata": {
            "tags": []
          },
          "execution_count": 94
        }
      ]
    },
    {
      "metadata": {
        "id": "M1zxqtK8LOYV",
        "colab_type": "code",
        "colab": {}
      },
      "cell_type": "code",
      "source": [
        "positive_rating = len(df2[df2['rating'] >=7.0])\n",
        "neutral_rating = len(df2[(df2['rating'] >=4) & (df2['rating']<7)])\n",
        "negative_rating = len(df2[df2['rating']<=3])"
      ],
      "execution_count": 0,
      "outputs": []
    },
    {
      "metadata": {
        "id": "AbvSCHc0Nq_U",
        "colab_type": "code",
        "colab": {
          "base_uri": "https://localhost:8080/",
          "height": 34
        },
        "outputId": "fe274e56-ac14-468f-ee22-3768a52f26e4"
      },
      "cell_type": "code",
      "source": [
        "positive_rating,neutral_rating,negative_rating"
      ],
      "execution_count": 96,
      "outputs": [
        {
          "output_type": "execute_result",
          "data": {
            "text/plain": [
              "(142306, 25856, 46901)"
            ]
          },
          "metadata": {
            "tags": []
          },
          "execution_count": 96
        }
      ]
    },
    {
      "metadata": {
        "id": "XcEYgG1HOAdQ",
        "colab_type": "code",
        "colab": {
          "base_uri": "https://localhost:8080/",
          "height": 34
        },
        "outputId": "ae778f79-e72b-4f80-cc3f-511f74a6ced8"
      },
      "cell_type": "code",
      "source": [
        "Total_rating = positive_rating+neutral_rating+negative_rating\n",
        "Total_rating"
      ],
      "execution_count": 97,
      "outputs": [
        {
          "output_type": "execute_result",
          "data": {
            "text/plain": [
              "215063"
            ]
          },
          "metadata": {
            "tags": []
          },
          "execution_count": 97
        }
      ]
    },
    {
      "metadata": {
        "id": "y57v1FgaOyuN",
        "colab_type": "code",
        "colab": {}
      },
      "cell_type": "code",
      "source": [
        "df2['ratingSentiment']= df2['rating'].map(lambda x:int(2) if x>=7 else int(1) if x<=3 else int(0) )"
      ],
      "execution_count": 0,
      "outputs": []
    },
    {
      "metadata": {
        "id": "Db4frxHQtKYk",
        "colab_type": "code",
        "colab": {
          "base_uri": "https://localhost:8080/",
          "height": 87
        },
        "outputId": "b8872d5e-564c-4c17-c67c-7dcf4d4d7f9f"
      },
      "cell_type": "code",
      "source": [
        "df2['ratingSentiment'].value_counts()"
      ],
      "execution_count": 99,
      "outputs": [
        {
          "output_type": "execute_result",
          "data": {
            "text/plain": [
              "2    142306\n",
              "1     46901\n",
              "0     25856\n",
              "Name: ratingSentiment, dtype: int64"
            ]
          },
          "metadata": {
            "tags": []
          },
          "execution_count": 99
        }
      ]
    },
    {
      "metadata": {
        "id": "Za4Z3TcP0aRU",
        "colab_type": "code",
        "colab": {
          "base_uri": "https://localhost:8080/",
          "height": 195
        },
        "outputId": "14c3cbd0-314d-4788-eafd-355385e92b8a"
      },
      "cell_type": "code",
      "source": [
        "df2.head()"
      ],
      "execution_count": 100,
      "outputs": [
        {
          "output_type": "execute_result",
          "data": {
            "text/html": [
              "<div>\n",
              "<style scoped>\n",
              "    .dataframe tbody tr th:only-of-type {\n",
              "        vertical-align: middle;\n",
              "    }\n",
              "\n",
              "    .dataframe tbody tr th {\n",
              "        vertical-align: top;\n",
              "    }\n",
              "\n",
              "    .dataframe thead th {\n",
              "        text-align: right;\n",
              "    }\n",
              "</style>\n",
              "<table border=\"1\" class=\"dataframe\">\n",
              "  <thead>\n",
              "    <tr style=\"text-align: right;\">\n",
              "      <th></th>\n",
              "      <th>Id</th>\n",
              "      <th>review</th>\n",
              "      <th>rating</th>\n",
              "      <th>cleanReview</th>\n",
              "      <th>vaderReviewScore</th>\n",
              "      <th>vaderSentiment</th>\n",
              "      <th>vaderSentimentLabel</th>\n",
              "      <th>ratingSentiment</th>\n",
              "    </tr>\n",
              "  </thead>\n",
              "  <tbody>\n",
              "    <tr>\n",
              "      <th>0</th>\n",
              "      <td>163740</td>\n",
              "      <td>\"I&amp;#039;ve tried a few antidepressants over th...</td>\n",
              "      <td>10.0</td>\n",
              "      <td>\"I&amp;#039;ve tried antidepressants years (citalo...</td>\n",
              "      <td>0.7623</td>\n",
              "      <td>2</td>\n",
              "      <td>positive</td>\n",
              "      <td>2</td>\n",
              "    </tr>\n",
              "    <tr>\n",
              "      <th>1</th>\n",
              "      <td>206473</td>\n",
              "      <td>\"My son has Crohn&amp;#039;s disease and has done ...</td>\n",
              "      <td>8.0</td>\n",
              "      <td>\"My son Crohn&amp;#039;s disease done well Asacol....</td>\n",
              "      <td>0.4767</td>\n",
              "      <td>2</td>\n",
              "      <td>positive</td>\n",
              "      <td>2</td>\n",
              "    </tr>\n",
              "    <tr>\n",
              "      <th>2</th>\n",
              "      <td>159672</td>\n",
              "      <td>\"Quick reduction of symptoms\"</td>\n",
              "      <td>9.0</td>\n",
              "      <td>\"Quick reduction symptoms\"</td>\n",
              "      <td>0.0000</td>\n",
              "      <td>0</td>\n",
              "      <td>neutral</td>\n",
              "      <td>2</td>\n",
              "    </tr>\n",
              "    <tr>\n",
              "      <th>3</th>\n",
              "      <td>39293</td>\n",
              "      <td>\"Contrave combines drugs that were used for al...</td>\n",
              "      <td>9.0</td>\n",
              "      <td>\"Contrave combines drugs used alcohol, smoking...</td>\n",
              "      <td>0.8115</td>\n",
              "      <td>2</td>\n",
              "      <td>positive</td>\n",
              "      <td>2</td>\n",
              "    </tr>\n",
              "    <tr>\n",
              "      <th>4</th>\n",
              "      <td>97768</td>\n",
              "      <td>\"I have been on this birth control for one cyc...</td>\n",
              "      <td>9.0</td>\n",
              "      <td>\"I birth control one cycle. After reading revi...</td>\n",
              "      <td>0.9619</td>\n",
              "      <td>2</td>\n",
              "      <td>positive</td>\n",
              "      <td>2</td>\n",
              "    </tr>\n",
              "  </tbody>\n",
              "</table>\n",
              "</div>"
            ],
            "text/plain": [
              "       Id                                             review  rating  \\\n",
              "0  163740  \"I&#039;ve tried a few antidepressants over th...    10.0   \n",
              "1  206473  \"My son has Crohn&#039;s disease and has done ...     8.0   \n",
              "2  159672                      \"Quick reduction of symptoms\"     9.0   \n",
              "3   39293  \"Contrave combines drugs that were used for al...     9.0   \n",
              "4   97768  \"I have been on this birth control for one cyc...     9.0   \n",
              "\n",
              "                                         cleanReview  vaderReviewScore  \\\n",
              "0  \"I&#039;ve tried antidepressants years (citalo...            0.7623   \n",
              "1  \"My son Crohn&#039;s disease done well Asacol....            0.4767   \n",
              "2                         \"Quick reduction symptoms\"            0.0000   \n",
              "3  \"Contrave combines drugs used alcohol, smoking...            0.8115   \n",
              "4  \"I birth control one cycle. After reading revi...            0.9619   \n",
              "\n",
              "   vaderSentiment vaderSentimentLabel  ratingSentiment  \n",
              "0               2            positive                2  \n",
              "1               2            positive                2  \n",
              "2               0             neutral                2  \n",
              "3               2            positive                2  \n",
              "4               2            positive                2  "
            ]
          },
          "metadata": {
            "tags": []
          },
          "execution_count": 100
        }
      ]
    },
    {
      "metadata": {
        "id": "bHmsLaY2PWgr",
        "colab_type": "code",
        "colab": {}
      },
      "cell_type": "code",
      "source": [
        "df2.loc[df2['rating'] >=7.0,\"ratingSentimentLabel\"] =\"positive\"\n",
        "df2.loc[(df2['rating'] >=4.0) & (df2['rating']<7.0),\"ratingSentimentLabel\"]= \"neutral\"\n",
        "df2.loc[df2['rating']<=3.0,\"ratingSentimentLabel\"] = \"negative\""
      ],
      "execution_count": 0,
      "outputs": []
    },
    {
      "metadata": {
        "id": "pnS_lrEpUM1a",
        "colab_type": "code",
        "colab": {
          "base_uri": "https://localhost:8080/",
          "height": 262
        },
        "outputId": "b66702d0-fa66-4cb5-d1de-fef3e83ca162"
      },
      "cell_type": "code",
      "source": [
        "df2.head()"
      ],
      "execution_count": 102,
      "outputs": [
        {
          "output_type": "execute_result",
          "data": {
            "text/html": [
              "<div>\n",
              "<style scoped>\n",
              "    .dataframe tbody tr th:only-of-type {\n",
              "        vertical-align: middle;\n",
              "    }\n",
              "\n",
              "    .dataframe tbody tr th {\n",
              "        vertical-align: top;\n",
              "    }\n",
              "\n",
              "    .dataframe thead th {\n",
              "        text-align: right;\n",
              "    }\n",
              "</style>\n",
              "<table border=\"1\" class=\"dataframe\">\n",
              "  <thead>\n",
              "    <tr style=\"text-align: right;\">\n",
              "      <th></th>\n",
              "      <th>Id</th>\n",
              "      <th>review</th>\n",
              "      <th>rating</th>\n",
              "      <th>cleanReview</th>\n",
              "      <th>vaderReviewScore</th>\n",
              "      <th>vaderSentiment</th>\n",
              "      <th>vaderSentimentLabel</th>\n",
              "      <th>ratingSentiment</th>\n",
              "      <th>ratingSentimentLabel</th>\n",
              "    </tr>\n",
              "  </thead>\n",
              "  <tbody>\n",
              "    <tr>\n",
              "      <th>0</th>\n",
              "      <td>163740</td>\n",
              "      <td>\"I&amp;#039;ve tried a few antidepressants over th...</td>\n",
              "      <td>10.0</td>\n",
              "      <td>\"I&amp;#039;ve tried antidepressants years (citalo...</td>\n",
              "      <td>0.7623</td>\n",
              "      <td>2</td>\n",
              "      <td>positive</td>\n",
              "      <td>2</td>\n",
              "      <td>positive</td>\n",
              "    </tr>\n",
              "    <tr>\n",
              "      <th>1</th>\n",
              "      <td>206473</td>\n",
              "      <td>\"My son has Crohn&amp;#039;s disease and has done ...</td>\n",
              "      <td>8.0</td>\n",
              "      <td>\"My son Crohn&amp;#039;s disease done well Asacol....</td>\n",
              "      <td>0.4767</td>\n",
              "      <td>2</td>\n",
              "      <td>positive</td>\n",
              "      <td>2</td>\n",
              "      <td>positive</td>\n",
              "    </tr>\n",
              "    <tr>\n",
              "      <th>2</th>\n",
              "      <td>159672</td>\n",
              "      <td>\"Quick reduction of symptoms\"</td>\n",
              "      <td>9.0</td>\n",
              "      <td>\"Quick reduction symptoms\"</td>\n",
              "      <td>0.0000</td>\n",
              "      <td>0</td>\n",
              "      <td>neutral</td>\n",
              "      <td>2</td>\n",
              "      <td>positive</td>\n",
              "    </tr>\n",
              "    <tr>\n",
              "      <th>3</th>\n",
              "      <td>39293</td>\n",
              "      <td>\"Contrave combines drugs that were used for al...</td>\n",
              "      <td>9.0</td>\n",
              "      <td>\"Contrave combines drugs used alcohol, smoking...</td>\n",
              "      <td>0.8115</td>\n",
              "      <td>2</td>\n",
              "      <td>positive</td>\n",
              "      <td>2</td>\n",
              "      <td>positive</td>\n",
              "    </tr>\n",
              "    <tr>\n",
              "      <th>4</th>\n",
              "      <td>97768</td>\n",
              "      <td>\"I have been on this birth control for one cyc...</td>\n",
              "      <td>9.0</td>\n",
              "      <td>\"I birth control one cycle. After reading revi...</td>\n",
              "      <td>0.9619</td>\n",
              "      <td>2</td>\n",
              "      <td>positive</td>\n",
              "      <td>2</td>\n",
              "      <td>positive</td>\n",
              "    </tr>\n",
              "  </tbody>\n",
              "</table>\n",
              "</div>"
            ],
            "text/plain": [
              "       Id                                             review  rating  \\\n",
              "0  163740  \"I&#039;ve tried a few antidepressants over th...    10.0   \n",
              "1  206473  \"My son has Crohn&#039;s disease and has done ...     8.0   \n",
              "2  159672                      \"Quick reduction of symptoms\"     9.0   \n",
              "3   39293  \"Contrave combines drugs that were used for al...     9.0   \n",
              "4   97768  \"I have been on this birth control for one cyc...     9.0   \n",
              "\n",
              "                                         cleanReview  vaderReviewScore  \\\n",
              "0  \"I&#039;ve tried antidepressants years (citalo...            0.7623   \n",
              "1  \"My son Crohn&#039;s disease done well Asacol....            0.4767   \n",
              "2                         \"Quick reduction symptoms\"            0.0000   \n",
              "3  \"Contrave combines drugs used alcohol, smoking...            0.8115   \n",
              "4  \"I birth control one cycle. After reading revi...            0.9619   \n",
              "\n",
              "   vaderSentiment vaderSentimentLabel  ratingSentiment ratingSentimentLabel  \n",
              "0               2            positive                2             positive  \n",
              "1               2            positive                2             positive  \n",
              "2               0             neutral                2             positive  \n",
              "3               2            positive                2             positive  \n",
              "4               2            positive                2             positive  "
            ]
          },
          "metadata": {
            "tags": []
          },
          "execution_count": 102
        }
      ]
    },
    {
      "metadata": {
        "id": "QpEFV6GW1J2y",
        "colab_type": "code",
        "colab": {}
      },
      "cell_type": "code",
      "source": [
        "df2 = df2[['Id','review','cleanReview','rating','ratingSentiment','ratingSentimentLabel','vaderReviewScore','vaderSentiment','vaderSentimentLabel']]"
      ],
      "execution_count": 0,
      "outputs": []
    },
    {
      "metadata": {
        "id": "gVaD9UXI377U",
        "colab_type": "code",
        "colab": {
          "base_uri": "https://localhost:8080/",
          "height": 262
        },
        "outputId": "640a4610-0087-4ccb-8d5c-6857875497dd"
      },
      "cell_type": "code",
      "source": [
        "df2.head()"
      ],
      "execution_count": 105,
      "outputs": [
        {
          "output_type": "execute_result",
          "data": {
            "text/html": [
              "<div>\n",
              "<style scoped>\n",
              "    .dataframe tbody tr th:only-of-type {\n",
              "        vertical-align: middle;\n",
              "    }\n",
              "\n",
              "    .dataframe tbody tr th {\n",
              "        vertical-align: top;\n",
              "    }\n",
              "\n",
              "    .dataframe thead th {\n",
              "        text-align: right;\n",
              "    }\n",
              "</style>\n",
              "<table border=\"1\" class=\"dataframe\">\n",
              "  <thead>\n",
              "    <tr style=\"text-align: right;\">\n",
              "      <th></th>\n",
              "      <th>Id</th>\n",
              "      <th>review</th>\n",
              "      <th>cleanReview</th>\n",
              "      <th>rating</th>\n",
              "      <th>ratingSentiment</th>\n",
              "      <th>ratingSentimentLabel</th>\n",
              "      <th>vaderReviewScore</th>\n",
              "      <th>vaderSentiment</th>\n",
              "      <th>vaderSentimentLabel</th>\n",
              "    </tr>\n",
              "  </thead>\n",
              "  <tbody>\n",
              "    <tr>\n",
              "      <th>0</th>\n",
              "      <td>163740</td>\n",
              "      <td>\"I&amp;#039;ve tried a few antidepressants over th...</td>\n",
              "      <td>\"I&amp;#039;ve tried antidepressants years (citalo...</td>\n",
              "      <td>10.0</td>\n",
              "      <td>2</td>\n",
              "      <td>positive</td>\n",
              "      <td>0.7623</td>\n",
              "      <td>2</td>\n",
              "      <td>positive</td>\n",
              "    </tr>\n",
              "    <tr>\n",
              "      <th>1</th>\n",
              "      <td>206473</td>\n",
              "      <td>\"My son has Crohn&amp;#039;s disease and has done ...</td>\n",
              "      <td>\"My son Crohn&amp;#039;s disease done well Asacol....</td>\n",
              "      <td>8.0</td>\n",
              "      <td>2</td>\n",
              "      <td>positive</td>\n",
              "      <td>0.4767</td>\n",
              "      <td>2</td>\n",
              "      <td>positive</td>\n",
              "    </tr>\n",
              "    <tr>\n",
              "      <th>2</th>\n",
              "      <td>159672</td>\n",
              "      <td>\"Quick reduction of symptoms\"</td>\n",
              "      <td>\"Quick reduction symptoms\"</td>\n",
              "      <td>9.0</td>\n",
              "      <td>2</td>\n",
              "      <td>positive</td>\n",
              "      <td>0.0000</td>\n",
              "      <td>0</td>\n",
              "      <td>neutral</td>\n",
              "    </tr>\n",
              "    <tr>\n",
              "      <th>3</th>\n",
              "      <td>39293</td>\n",
              "      <td>\"Contrave combines drugs that were used for al...</td>\n",
              "      <td>\"Contrave combines drugs used alcohol, smoking...</td>\n",
              "      <td>9.0</td>\n",
              "      <td>2</td>\n",
              "      <td>positive</td>\n",
              "      <td>0.8115</td>\n",
              "      <td>2</td>\n",
              "      <td>positive</td>\n",
              "    </tr>\n",
              "    <tr>\n",
              "      <th>4</th>\n",
              "      <td>97768</td>\n",
              "      <td>\"I have been on this birth control for one cyc...</td>\n",
              "      <td>\"I birth control one cycle. After reading revi...</td>\n",
              "      <td>9.0</td>\n",
              "      <td>2</td>\n",
              "      <td>positive</td>\n",
              "      <td>0.9619</td>\n",
              "      <td>2</td>\n",
              "      <td>positive</td>\n",
              "    </tr>\n",
              "  </tbody>\n",
              "</table>\n",
              "</div>"
            ],
            "text/plain": [
              "       Id                                             review  \\\n",
              "0  163740  \"I&#039;ve tried a few antidepressants over th...   \n",
              "1  206473  \"My son has Crohn&#039;s disease and has done ...   \n",
              "2  159672                      \"Quick reduction of symptoms\"   \n",
              "3   39293  \"Contrave combines drugs that were used for al...   \n",
              "4   97768  \"I have been on this birth control for one cyc...   \n",
              "\n",
              "                                         cleanReview  rating  ratingSentiment  \\\n",
              "0  \"I&#039;ve tried antidepressants years (citalo...    10.0                2   \n",
              "1  \"My son Crohn&#039;s disease done well Asacol....     8.0                2   \n",
              "2                         \"Quick reduction symptoms\"     9.0                2   \n",
              "3  \"Contrave combines drugs used alcohol, smoking...     9.0                2   \n",
              "4  \"I birth control one cycle. After reading revi...     9.0                2   \n",
              "\n",
              "  ratingSentimentLabel  vaderReviewScore  vaderSentiment vaderSentimentLabel  \n",
              "0             positive            0.7623               2            positive  \n",
              "1             positive            0.4767               2            positive  \n",
              "2             positive            0.0000               0             neutral  \n",
              "3             positive            0.8115               2            positive  \n",
              "4             positive            0.9619               2            positive  "
            ]
          },
          "metadata": {
            "tags": []
          },
          "execution_count": 105
        }
      ]
    },
    {
      "metadata": {
        "id": "Ara3cGGh4BMR",
        "colab_type": "code",
        "colab": {}
      },
      "cell_type": "code",
      "source": [
        "df2.to_csv('processed.csv')    # To save preprocessed dataset to csv"
      ],
      "execution_count": 0,
      "outputs": []
    },
    {
      "metadata": {
        "id": "bdenGjMQ4d5p",
        "colab_type": "code",
        "colab": {}
      },
      "cell_type": "code",
      "source": [
        "df2.head(50)"
      ],
      "execution_count": 0,
      "outputs": []
    },
    {
      "metadata": {
        "id": "r4hScuxI5E1r",
        "colab_type": "code",
        "colab": {
          "base_uri": "https://localhost:8080/",
          "height": 34
        },
        "outputId": "3f525e66-012d-43e7-dcdb-310833fd1507"
      },
      "cell_type": "code",
      "source": [
        "import os\n",
        "os.stat('processed.csv').st_size         # Check size of csv file About 181MB"
      ],
      "execution_count": 108,
      "outputs": [
        {
          "output_type": "execute_result",
          "data": {
            "text/plain": [
              "181606560"
            ]
          },
          "metadata": {
            "tags": []
          },
          "execution_count": 108
        }
      ]
    },
    {
      "metadata": {
        "id": "8FYrARU76sPy",
        "colab_type": "code",
        "colab": {
          "base_uri": "https://localhost:8080/",
          "height": 263
        },
        "outputId": "14a88fa8-d6b0-424e-cac7-5be7da858162"
      },
      "cell_type": "code",
      "source": [
        "df2.info()"
      ],
      "execution_count": 110,
      "outputs": [
        {
          "output_type": "stream",
          "text": [
            "<class 'pandas.core.frame.DataFrame'>\n",
            "Int64Index: 215063 entries, 0 to 161296\n",
            "Data columns (total 9 columns):\n",
            "Id                      215063 non-null int64\n",
            "review                  215063 non-null object\n",
            "cleanReview             215063 non-null object\n",
            "rating                  215063 non-null float64\n",
            "ratingSentiment         215063 non-null int64\n",
            "ratingSentimentLabel    215063 non-null object\n",
            "vaderReviewScore        215063 non-null float64\n",
            "vaderSentiment          215063 non-null int64\n",
            "vaderSentimentLabel     215063 non-null object\n",
            "dtypes: float64(2), int64(3), object(4)\n",
            "memory usage: 16.4+ MB\n"
          ],
          "name": "stdout"
        }
      ]
    },
    {
      "metadata": {
        "id": "5Cn0ix2o7OXl",
        "colab_type": "code",
        "colab": {}
      },
      "cell_type": "code",
      "source": [
        "df2.to_csv('processed.csv.gz',compression='gzip')"
      ],
      "execution_count": 0,
      "outputs": []
    },
    {
      "metadata": {
        "id": "DhmstsvB7bjS",
        "colab_type": "code",
        "colab": {
          "base_uri": "https://localhost:8080/",
          "height": 34
        },
        "outputId": "1b938b1a-a733-4036-b4b6-fd83fe2b0031"
      },
      "cell_type": "code",
      "source": [
        "os.stat('processed.csv.gz').st_size    #compressed to about 54MB "
      ],
      "execution_count": 112,
      "outputs": [
        {
          "output_type": "execute_result",
          "data": {
            "text/plain": [
              "53996315"
            ]
          },
          "metadata": {
            "tags": []
          },
          "execution_count": 112
        }
      ]
    }
  ]
}